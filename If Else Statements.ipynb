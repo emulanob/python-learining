{
 "cells": [
  {
   "cell_type": "code",
   "execution_count": 4,
   "metadata": {},
   "outputs": [
    {
     "name": "stdout",
     "output_type": "stream",
     "text": [
      "a is less than b\n",
      "a is definitely less than b\n",
      "not sure if a is less than b\n"
     ]
    }
   ],
   "source": [
    "a = 1\n",
    "b = 2\n",
    "if a < b:\n",
    "    print(\"a is less than b\")\n",
    "    print(\"a is definitely less than b\")\n",
    "print(\"not sure if a is less than b\")"
   ]
  },
  {
   "cell_type": "code",
   "execution_count": 6,
   "metadata": {},
   "outputs": [
    {
     "name": "stdout",
     "output_type": "stream",
     "text": [
      "c is not less than d\n",
      "outside\n"
     ]
    }
   ],
   "source": [
    "c = 5\n",
    "d = 4\n",
    "if c < d:\n",
    "    print(\"c is less than d\")\n",
    "else:\n",
    "    print(\"c is not less than d\")\n",
    "print(\"outside\")"
   ]
  },
  {
   "cell_type": "code",
   "execution_count": 9,
   "metadata": {},
   "outputs": [
    {
     "name": "stdout",
     "output_type": "stream",
     "text": [
      "e is greater than f\n"
     ]
    }
   ],
   "source": [
    "e = 9\n",
    "f = 8\n",
    "if e < f:\n",
    "    print(\"e is less than f\")\n",
    "elif e == f:\n",
    "    print(\"e is equal to f\")\n",
    "elif e > f + 10:\n",
    "    print(\"e is greater than f by more than 10\")\n",
    "else:\n",
    "    print(\"e is greater than f\")"
   ]
  },
  {
   "cell_type": "code",
   "execution_count": 12,
   "metadata": {},
   "outputs": [
    {
     "name": "stdout",
     "output_type": "stream",
     "text": [
      "g is greater than h\n"
     ]
    }
   ],
   "source": [
    "g = 9\n",
    "h = 8\n",
    "if g < h:\n",
    "    print(\"g is less than h\")\n",
    "else:\n",
    "    if g == h:\n",
    "        print(\"they are equal\")\n",
    "    else:\n",
    "        print(\"g is greater than h\")"
   ]
  },
  {
   "cell_type": "code",
   "execution_count": 27,
   "metadata": {},
   "outputs": [
    {
     "name": "stdout",
     "output_type": "stream",
     "text": [
      "bmi: \n",
      "27.5\n",
      "YK is overweight and its bmi is 27.5\n"
     ]
    }
   ],
   "source": [
    "name = \"YK\"\n",
    "height_m = 2\n",
    "weight_kg = 110\n",
    "\n",
    "bmi = weight_kg / (height_m ** 2)\n",
    "print(\"bmi: \")\n",
    "print(bmi)\n",
    "if bmi < 25:\n",
    "    print(name, \"is not overweight\")\n",
    "else:\n",
    "    print(name, \"is overweight\", \"and its bmi is\", bmi)\n",
    "    "
   ]
  },
  {
   "cell_type": "code",
   "execution_count": null,
   "metadata": {},
   "outputs": [],
   "source": []
  }
 ],
 "metadata": {
  "kernelspec": {
   "display_name": "Python 3",
   "language": "python",
   "name": "python3"
  },
  "language_info": {
   "codemirror_mode": {
    "name": "ipython",
    "version": 3
   },
   "file_extension": ".py",
   "mimetype": "text/x-python",
   "name": "python",
   "nbconvert_exporter": "python",
   "pygments_lexer": "ipython3",
   "version": "3.6.4"
  }
 },
 "nbformat": 4,
 "nbformat_minor": 2
}
